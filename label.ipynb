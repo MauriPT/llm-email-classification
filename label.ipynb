{
 "cells": [
  {
   "cell_type": "code",
   "execution_count": 46,
   "metadata": {},
   "outputs": [],
   "source": [
    "import pandas as pd\n",
    "import re"
   ]
  },
  {
   "cell_type": "code",
   "execution_count": 47,
   "metadata": {},
   "outputs": [],
   "source": [
    "df = pd.read_csv(r'dataset/emails.csv')"
   ]
  },
  {
   "cell_type": "code",
   "execution_count": 48,
   "metadata": {},
   "outputs": [
    {
     "data": {
      "text/plain": [
       "(517401, 2)"
      ]
     },
     "execution_count": 48,
     "metadata": {},
     "output_type": "execute_result"
    }
   ],
   "source": [
    "df.shape"
   ]
  },
  {
   "cell_type": "code",
   "execution_count": 49,
   "metadata": {},
   "outputs": [],
   "source": [
    "# Sample 200,000 rows randomly\n",
    "sampled_df = df.sample(n=200000, random_state=42)\n",
    "\n",
    "# Save the sampled data for training\n",
    "sampled_df.to_csv('dataset/sampled_enron_emails.csv', index=False)"
   ]
  },
  {
   "cell_type": "code",
   "execution_count": 50,
   "metadata": {},
   "outputs": [
    {
     "data": {
      "text/plain": [
       "(200000, 2)"
      ]
     },
     "execution_count": 50,
     "metadata": {},
     "output_type": "execute_result"
    }
   ],
   "source": [
    "sampled_df.shape"
   ]
  },
  {
   "cell_type": "code",
   "execution_count": 51,
   "metadata": {},
   "outputs": [
    {
     "data": {
      "text/html": [
       "<div>\n",
       "<style scoped>\n",
       "    .dataframe tbody tr th:only-of-type {\n",
       "        vertical-align: middle;\n",
       "    }\n",
       "\n",
       "    .dataframe tbody tr th {\n",
       "        vertical-align: top;\n",
       "    }\n",
       "\n",
       "    .dataframe thead th {\n",
       "        text-align: right;\n",
       "    }\n",
       "</style>\n",
       "<table border=\"1\" class=\"dataframe\">\n",
       "  <thead>\n",
       "    <tr style=\"text-align: right;\">\n",
       "      <th></th>\n",
       "      <th>file</th>\n",
       "      <th>message</th>\n",
       "    </tr>\n",
       "  </thead>\n",
       "  <tbody>\n",
       "    <tr>\n",
       "      <th>427616</th>\n",
       "      <td>shackleton-s/sent/1912.</td>\n",
       "      <td>Message-ID: &lt;21013688.1075844564560.JavaMail.e...</td>\n",
       "    </tr>\n",
       "    <tr>\n",
       "      <th>108773</th>\n",
       "      <td>farmer-d/logistics/1066.</td>\n",
       "      <td>Message-ID: &lt;22688499.1075854130303.JavaMail.e...</td>\n",
       "    </tr>\n",
       "    <tr>\n",
       "      <th>355471</th>\n",
       "      <td>parks-j/deleted_items/202.</td>\n",
       "      <td>Message-ID: &lt;27817771.1075841359502.JavaMail.e...</td>\n",
       "    </tr>\n",
       "  </tbody>\n",
       "</table>\n",
       "</div>"
      ],
      "text/plain": [
       "                              file  \\\n",
       "427616     shackleton-s/sent/1912.   \n",
       "108773    farmer-d/logistics/1066.   \n",
       "355471  parks-j/deleted_items/202.   \n",
       "\n",
       "                                                  message  \n",
       "427616  Message-ID: <21013688.1075844564560.JavaMail.e...  \n",
       "108773  Message-ID: <22688499.1075854130303.JavaMail.e...  \n",
       "355471  Message-ID: <27817771.1075841359502.JavaMail.e...  "
      ]
     },
     "execution_count": 51,
     "metadata": {},
     "output_type": "execute_result"
    }
   ],
   "source": [
    "sampled_df.head(3)"
   ]
  },
  {
   "cell_type": "code",
   "execution_count": 52,
   "metadata": {},
   "outputs": [],
   "source": [
    "def preprocess_text(text):\n",
    "    # Extract the main message content by removing the headers\n",
    "    message_start = re.search(r'\\n\\n', text)  # Look for the first double newline, which typically separates headers from the body\n",
    "    if message_start:\n",
    "        text = text[message_start.end():]\n",
    "    \n",
    "    # Perform further cleaning on the message body\n",
    "    text = re.sub(r'\\s+', ' ', text)  # Remove multiple spaces\n",
    "    text = re.sub(r'\\n', ' ', text)  # Remove newlines\n",
    "    text = re.sub(r'\\w+@\\w+\\.\\w+', '', text)  # Remove email addresses\n",
    "    text = re.sub(r'http\\S+', '', text)  # Remove URLs\n",
    "    text = text.strip()  # Remove leading/trailing whitespace\n",
    "    return text"
   ]
  },
  {
   "cell_type": "code",
   "execution_count": 53,
   "metadata": {},
   "outputs": [],
   "source": [
    "sampled_df['cleaned_text'] = sampled_df['message'].apply(preprocess_text)"
   ]
  },
  {
   "cell_type": "code",
   "execution_count": 54,
   "metadata": {},
   "outputs": [],
   "source": [
    "# Initialize the category column\n",
    "df['category'] = None"
   ]
  },
  {
   "cell_type": "code",
   "execution_count": 55,
   "metadata": {},
   "outputs": [],
   "source": [
    "# Define the keywords for each category\n",
    "keywords = {\n",
    "    'support': [\"check\", \"update\", \"error\", \"issue\", \"problem\", \"please\", \"forwarded\"],\n",
    "    'billing': [\"invoice\", \"payment\", \"billing\", \"charge\", \"receipt\"],\n",
    "    'complaint': [\"complain\", \"rip-off\", \"refund\", \"bad\", \"poor\", \"unhappy\"],\n",
    "    'feedback': [\"thanks\", \"thank you\", \"info\", \"suggest\", \"idea\", \"opinion\"]\n",
    "}"
   ]
  },
  {
   "cell_type": "code",
   "execution_count": 56,
   "metadata": {},
   "outputs": [],
   "source": [
    "# Function to label the emails based on keywords\n",
    "def label_email(text):\n",
    "    text = text.lower()\n",
    "    for category, words in keywords.items():\n",
    "        if any(word in text for word in words):\n",
    "            return category\n",
    "    return 'unlabeled'"
   ]
  },
  {
   "cell_type": "code",
   "execution_count": 57,
   "metadata": {},
   "outputs": [],
   "source": [
    "sampled_df['category'] = sampled_df['cleaned_text'].apply(label_email)"
   ]
  },
  {
   "cell_type": "code",
   "execution_count": 58,
   "metadata": {},
   "outputs": [],
   "source": [
    "sampled_df.to_csv('dataset/sampled_enron_emails.csv', index=False)"
   ]
  },
  {
   "cell_type": "code",
   "execution_count": 59,
   "metadata": {},
   "outputs": [
    {
     "data": {
      "text/plain": [
       "category\n",
       "support      127481\n",
       "unlabeled     47536\n",
       "feedback      20528\n",
       "billing        2806\n",
       "complaint      1649\n",
       "Name: count, dtype: int64"
      ]
     },
     "execution_count": 59,
     "metadata": {},
     "output_type": "execute_result"
    }
   ],
   "source": [
    "sampled_df['category'].value_counts()"
   ]
  },
  {
   "cell_type": "code",
   "execution_count": null,
   "metadata": {},
   "outputs": [],
   "source": []
  }
 ],
 "metadata": {
  "kernelspec": {
   "display_name": "Python 3",
   "language": "python",
   "name": "python3"
  },
  "language_info": {
   "codemirror_mode": {
    "name": "ipython",
    "version": 3
   },
   "file_extension": ".py",
   "mimetype": "text/x-python",
   "name": "python",
   "nbconvert_exporter": "python",
   "pygments_lexer": "ipython3",
   "version": "3.11.9"
  }
 },
 "nbformat": 4,
 "nbformat_minor": 2
}
